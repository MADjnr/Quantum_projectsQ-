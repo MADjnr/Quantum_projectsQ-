{
 "cells": [
  {
   "cell_type": "code",
   "execution_count": null,
   "metadata": {
    "collapsed": true,
    "pycharm": {
     "name": "#%%\n"
    }
   },
   "outputs": [],
   "source": [
    "## implementation of the extended Euclidean algorithm\n",
    "## in this implementation, a<b\n",
    "def extended_gcd(a, b):\n",
    "\n",
    "    ##the base-case\n",
    "    ## of course because gcd(0,b)=b and a*x + b*y =b - so x=0 and y=1\n",
    "    if a == 0:\n",
    "        return b, 0, 1\n",
    "\n",
    "    #we use the Euclidean algorithm to get gcd()\n",
    "    ## b%a is always the smaller number - and 'a' is the smaller integer\n",
    "    ## always in this implementation\n",
    "    gcd, x1, y1 = egcd(a % b, a)\n",
    "\n",
    "    x = y1 - (b // a) * x1\n",
    "    y = x1\n",
    "\n",
    "    return gcd, x, y"
   ]
  },
  {
   "cell_type": "code",
   "execution_count": null,
   "outputs": [],
   "source": [],
   "metadata": {
    "collapsed": false,
    "pycharm": {
     "name": "#%%\n"
    }
   }
  }
 ],
 "metadata": {
  "kernelspec": {
   "display_name": "Python 3",
   "language": "python",
   "name": "python3"
  },
  "language_info": {
   "codemirror_mode": {
    "name": "ipython",
    "version": 2
   },
   "file_extension": ".py",
   "mimetype": "text/x-python",
   "name": "python",
   "nbconvert_exporter": "python",
   "pygments_lexer": "ipython2",
   "version": "2.7.6"
  }
 },
 "nbformat": 4,
 "nbformat_minor": 0
}