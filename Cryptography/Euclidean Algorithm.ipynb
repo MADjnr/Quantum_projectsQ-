{
 "cells": [
  {
   "cell_type": "code",
   "execution_count": 2,
   "outputs": [],
   "source": [
    "## GCD implementation\n",
    "\"\"\"\n",
    "This is a recursive implementation\n",
    "\"\"\"\n",
    "def gcd(a,b):  #gcd stands for the greatest common divisor\n",
    "\n",
    "    ### to generate the base case: ie if b/a (without a remainder) then b is the gcd\n",
    "    if a % b ==0: ##this means that if a divides b without a remainder, then return b\n",
    "        return b\n",
    "\n",
    "    return gcd(b, a % b)"
   ],
   "metadata": {
    "collapsed": false,
    "pycharm": {
     "name": "#%%\n"
    }
   }
  },
  {
   "cell_type": "code",
   "execution_count": 5,
   "outputs": [
    {
     "data": {
      "text/plain": "1"
     },
     "execution_count": 5,
     "metadata": {},
     "output_type": "execute_result"
    }
   ],
   "source": [
    "gcd(28, 5)  ## these arguements are coprimes because their greatest divisor is 1\n"
   ],
   "metadata": {
    "collapsed": false,
    "pycharm": {
     "name": "#%%\n"
    }
   }
  },
  {
   "cell_type": "code",
   "execution_count": 10,
   "outputs": [],
   "source": [
    "\"\"\"\n",
    "Iterative implementation\n",
    "\"\"\"\n",
    "\n",
    "def gcd(a,b):\n",
    "\n",
    "    while a % b != 0:\n",
    "        a, b = b, a % b\n",
    "    return b\n",
    "\n",
    "    ## if b/a then b is the greatest common divisor\n"
   ],
   "metadata": {
    "collapsed": false,
    "pycharm": {
     "name": "#%%\n"
    }
   }
  },
  {
   "cell_type": "code",
   "execution_count": 11,
   "outputs": [
    {
     "data": {
      "text/plain": "4"
     },
     "execution_count": 11,
     "metadata": {},
     "output_type": "execute_result"
    }
   ],
   "source": [
    "gcd(32, 4444)"
   ],
   "metadata": {
    "collapsed": false,
    "pycharm": {
     "name": "#%%\n"
    }
   }
  },
  {
   "cell_type": "code",
   "execution_count": null,
   "outputs": [],
   "source": [
    "### THESE ALGORITHM WILL BE CRUCIAL WHEN IMPLEMENTING THE RSA ALGORITHM"
   ],
   "metadata": {
    "collapsed": false,
    "pycharm": {
     "name": "#%%\n"
    }
   }
  }
 ],
 "metadata": {
  "kernelspec": {
   "display_name": "Python 3",
   "language": "python",
   "name": "python3"
  },
  "language_info": {
   "codemirror_mode": {
    "name": "ipython",
    "version": 2
   },
   "file_extension": ".py",
   "mimetype": "text/x-python",
   "name": "python",
   "nbconvert_exporter": "python",
   "pygments_lexer": "ipython2",
   "version": "2.7.6"
  }
 },
 "nbformat": 4,
 "nbformat_minor": 0
}