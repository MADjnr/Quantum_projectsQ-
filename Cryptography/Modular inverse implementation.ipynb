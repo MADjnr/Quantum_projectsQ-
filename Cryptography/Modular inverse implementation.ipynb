{
 "cells": [
  {
   "cell_type": "code",
   "execution_count": 2,
   "outputs": [],
   "source": [
    "def modular_inverse(a, m):\n",
    "\n",
    "    \"\"\"\n",
    "    :param a:\n",
    "    :param m: m is a 1024 bits long  prime number\n",
    "    :return:\n",
    "\n",
    "    this function uses a brute force approach: ie we check all the possible values in the range of [0, m-1]\n",
    "    m maybe too large. And as far as the number of input bits are concerned, the running time is exponential.\n",
    "    \"\"\"\n",
    "    for inverse_a in range(0, m): ## this does not consider m, it just considers the values within the range of 0 to m-1\n",
    "        if (a * inverse_a) % m == 1:\n",
    "            return inverse_a\n",
    "\n",
    "    ## if every single value is considered and this no success, then we print the function below.\n",
    "    print(\"there is no modulo inverse, therefore a is not a coprime of m\")\n",
    "    ## therefore not all a value has a modulo inverse, this because only the numbers coprime of to m have modular inverse."
   ],
   "metadata": {
    "collapsed": false,
    "pycharm": {
     "name": "#%%\n"
    }
   }
  },
  {
   "cell_type": "code",
   "execution_count": 3,
   "outputs": [
    {
     "data": {
      "text/plain": "7"
     },
     "execution_count": 3,
     "metadata": {},
     "output_type": "execute_result"
    }
   ],
   "source": [
    "modular_inverse(9, 31)\n",
    "## this is a brute force approach, therefore if a and m are large values it will take an exponential amount of time.\n",
    "## but them we will learn about the extended euclidean algorithm because with it, we can find it in linear running time complexity.\n"
   ],
   "metadata": {
    "collapsed": false,
    "pycharm": {
     "name": "#%%\n"
    }
   }
  },
  {
   "cell_type": "code",
   "execution_count": null,
   "outputs": [],
   "source": [],
   "metadata": {
    "collapsed": false,
    "pycharm": {
     "name": "#%%\n"
    }
   }
  }
 ],
 "metadata": {
  "kernelspec": {
   "display_name": "Python 3",
   "language": "python",
   "name": "python3"
  },
  "language_info": {
   "codemirror_mode": {
    "name": "ipython",
    "version": 2
   },
   "file_extension": ".py",
   "mimetype": "text/x-python",
   "name": "python",
   "nbconvert_exporter": "python",
   "pygments_lexer": "ipython2",
   "version": "2.7.6"
  }
 },
 "nbformat": 4,
 "nbformat_minor": 0
}