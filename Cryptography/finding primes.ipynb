{
 "cells": [
  {
   "cell_type": "code",
   "execution_count": 14,
   "outputs": [],
   "source": [
    "### Lets check if a given number is prime or not\n",
    "from math import sqrt\n",
    "from math import floor\n",
    "\n",
    "def is_prime(num):\n",
    "    \"\"\"\n",
    "    this function returns false if num is not prime.\n",
    "    :param num:\n",
    "    :return:\n",
    "    \"\"\"\n",
    "    if num < 2:\n",
    "        return False\n",
    "\n",
    "    ## The integer two is the only even prime number\n",
    "    if num == 2:\n",
    "        return True\n",
    "\n",
    "    if num % 2 == 0:\n",
    "        return False\n",
    "\n",
    "    ## we have already checked numbers < 3\n",
    "    ## finding primes up to N we just have to check numbers up to sqrt(N)\n",
    "    ## incrementing by 2 because we have already considered even numbers\n",
    "    for n in range(3, floor(sqrt(num))+1, 2):\n",
    "        if num % n == 0:\n",
    "            return False\n",
    "\n",
    "    return True\n"
   ],
   "metadata": {
    "collapsed": false,
    "pycharm": {
     "name": "#%%\n"
    }
   }
  },
  {
   "cell_type": "code",
   "execution_count": 15,
   "outputs": [
    {
     "name": "stdout",
     "output_type": "stream",
     "text": [
      "False\n"
     ]
    }
   ],
   "source": [
    "#if __name__ = '__main__':  ## The problem with this approach is that it has exponential running time\n",
    "## COmplexity\n",
    "print(is_prime(25))"
   ],
   "metadata": {
    "collapsed": false,
    "pycharm": {
     "name": "#%%\n"
    }
   }
  },
  {
   "cell_type": "code",
   "execution_count": 17,
   "outputs": [],
   "source": [
    "### Advanced approach\n",
    "import random\n",
    "\n",
    "def is_prime(n, k=10):  ## k is the number of iterations\n",
    "    ### We only care about positive integers\n",
    "    if n<= 1:\n",
    "        return False\n",
    "\n",
    "    ## Fermat's primality test is probabilitistic: the more k iterations we make\n",
    "    ## the higher the probability that the given number is not composite (so a prime)\n",
    "    for _ in range(k):\n",
    "        ## generate a random number [2, N-1]\n",
    "        a = random.randint(2, n) - 1\n",
    "\n",
    "        ## If a^n-1%n != 1 then n is not a prime\n",
    "        if pow(a, n-1, n) != 1:\n",
    "            return False\n",
    "\n",
    "    ## after k iterations we can come to the conclusion that n is a prime\n",
    "    return True"
   ],
   "metadata": {
    "collapsed": false,
    "pycharm": {
     "name": "#%%\n"
    }
   }
  },
  {
   "cell_type": "code",
   "execution_count": 21,
   "outputs": [
    {
     "name": "stdout",
     "output_type": "stream",
     "text": [
      "True\n"
     ]
    }
   ],
   "source": [
    "print(is_prime(101))"
   ],
   "metadata": {
    "collapsed": false,
    "pycharm": {
     "name": "#%%\n"
    }
   }
  },
  {
   "cell_type": "code",
   "execution_count": null,
   "outputs": [],
   "source": [],
   "metadata": {
    "collapsed": false,
    "pycharm": {
     "name": "#%%\n"
    }
   }
  }
 ],
 "metadata": {
  "kernelspec": {
   "display_name": "Python 3",
   "language": "python",
   "name": "python3"
  },
  "language_info": {
   "codemirror_mode": {
    "name": "ipython",
    "version": 2
   },
   "file_extension": ".py",
   "mimetype": "text/x-python",
   "name": "python",
   "nbconvert_exporter": "python",
   "pygments_lexer": "ipython2",
   "version": "2.7.6"
  }
 },
 "nbformat": 4,
 "nbformat_minor": 0
}