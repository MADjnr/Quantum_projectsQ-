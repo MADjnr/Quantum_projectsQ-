{
 "cells": [
  {
   "cell_type": "code",
   "execution_count": 2,
   "outputs": [
    {
     "name": "stdout",
     "output_type": "stream",
     "text": [
      "    0  100.00\n",
      "    1  105.00\n",
      "    2  110.25\n",
      "    3  115.76\n",
      "    4  121.55\n",
      "    5  127.63\n",
      "    6  134.01\n",
      "    7  140.71\n",
      "    8  147.75\n"
     ]
    }
   ],
   "source": [
    "position_of_the_atoms = [0,1,2,3,4,5,6,7,8]\n",
    "for n in position_of_the_atoms:\n",
    "    r = 5.0\n",
    "    p = 100.0\n",
    "    A = p * (1 +r/100)**n\n",
    "    print(f'{n:5d}{A:8.2f}')"
   ],
   "metadata": {
    "collapsed": false,
    "pycharm": {
     "name": "#%%\n"
    }
   }
  },
  {
   "cell_type": "markdown",
   "source": [],
   "metadata": {
    "collapsed": false,
    "pycharm": {
     "name": "#%% md\n"
    }
   }
  },
  {
   "cell_type": "code",
   "execution_count": 3,
   "outputs": [
    {
     "name": "stdout",
     "output_type": "stream",
     "text": [
      "0 100.0\n",
      "1 105.0\n",
      "2 110.25\n",
      "3 115.76250000000002\n",
      "4 121.55062500000003\n",
      "5 127.62815625000003\n",
      "6 134.00956406250003\n",
      "7 140.71004226562505\n",
      "8 147.7455443789063\n",
      "9 155.13282159785163\n",
      "10 162.8894626777442\n"
     ]
    }
   ],
   "source": [
    "p = 100\n",
    "r = 5.0\n",
    "N = 10\n",
    "\n",
    "for n in range(N + 1):\n",
    "    A = p * (1+r/100)**n\n",
    "    print(n,A)"
   ],
   "metadata": {
    "collapsed": false,
    "pycharm": {
     "name": "#%%\n"
    }
   }
  },
  {
   "cell_type": "code",
   "execution_count": null,
   "outputs": [],
   "source": [],
   "metadata": {
    "collapsed": false,
    "pycharm": {
     "name": "#%%\n"
    }
   }
  }
 ],
 "metadata": {
  "kernelspec": {
   "display_name": "Python 3",
   "language": "python",
   "name": "python3"
  },
  "language_info": {
   "codemirror_mode": {
    "name": "ipython",
    "version": 2
   },
   "file_extension": ".py",
   "mimetype": "text/x-python",
   "name": "python",
   "nbconvert_exporter": "python",
   "pygments_lexer": "ipython2",
   "version": "2.7.6"
  }
 },
 "nbformat": 4,
 "nbformat_minor": 0
}