{
 "cells": [
  {
   "cell_type": "code",
   "execution_count": 3,
   "outputs": [],
   "source": [
    "##importing standard qiskit libraries\n",
    "from qiskit import QuantumCircuit, execute, Aer, IBMQ\n",
    "from qiskit.compiler import transpile, assemble\n",
    "from qiskit.tools.jupyter import *\n",
    "from qiskit.visualization import *\n",
    "from ibm_quantum_widgets import *\n",
    "from qiskit.tools.monitor import job_monitor\n",
    "from qiskit.providers.ibmq import least_busy\n",
    "\n",
    "\n",
    "### importing matplotlib libraries and functions\n",
    "import matplotlib.pyplot as plt\n",
    "from matplotlib import cm\n",
    "from matplotlib.ticker import LinearLocator, FormatStrFormatter\n",
    "\n",
    "###importing numpy\n",
    "import numpy as np\n",
    "\n",
    "\n",
    "##importing networkx-- a tool to handle general graphs\n",
    "import networkx as nx"
   ],
   "metadata": {
    "collapsed": false,
    "pycharm": {
     "name": "#%%\n"
    }
   }
  },
  {
   "cell_type": "code",
   "execution_count": 13,
   "outputs": [
    {
     "data": {
      "text/plain": "<Figure size 432x288 with 1 Axes>",
      "image/png": "[encoded data removed]"
     },
     "metadata": {},
     "output_type": "display_data"
    }
   ],
   "source": [
    " ## Generating the graoh with 5 nodes\n",
    "\n",
    "number_of_vertices = 5\n",
    "\n",
    "vertices = np.arange(0, number_of_vertices, 1)\n",
    "\n",
    "number_of_edges = [(0,1,1.0), (0,2,1.0), (1,2,1.0), (3,2,1.0), (3,4,1.0), (4,2,1.0)]\n",
    "\n",
    "## General graph\n",
    "graph = nx.Graph()\n",
    "graph.add_nodes_from(vertices)\n",
    "graph.add_weighted_edges_from(number_of_edges)\n",
    "\n",
    "## Generate plot of the Graph\n",
    "colors = ['r' for node in graph.nodes()]\n",
    "default_axes = plt.axes(frameon = True)\n",
    "pos = nx.spring_layout(graph)\n",
    "\n",
    "nx.draw_networkx(graph, node_color=colors, node_size = 600, alpha = 1, ax = default_axes, pos = pos)"
   ],
   "metadata": {
    "collapsed": false,
    "pycharm": {
     "name": "#%%\n"
    }
   }
  },
  {
   "cell_type": "markdown",
   "source": [
    "To evaluate the optimized parameters gamma and beta [Not that these parameters are angles]\n"
   ],
   "metadata": {
    "collapsed": false,
    "pycharm": {
     "name": "#%% md\n"
    }
   }
  },
  {
   "cell_type": "code",
   "execution_count": null,
   "outputs": [],
   "source": [
    "\n"
   ],
   "metadata": {
    "collapsed": false,
    "pycharm": {
     "name": "#%%\n"
    }
   }
  }
 ],
 "metadata": {
  "kernelspec": {
   "display_name": "Python 3",
   "language": "python",
   "name": "python3"
  },
  "language_info": {
   "codemirror_mode": {
    "name": "ipython",
    "version": 2
   },
   "file_extension": ".py",
   "mimetype": "text/x-python",
   "name": "python",
   "nbconvert_exporter": "python",
   "pygments_lexer": "ipython2",
   "version": "2.7.6"
  }
 },
 "nbformat": 4,
 "nbformat_minor": 0
}